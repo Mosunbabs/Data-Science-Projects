{
 "cells": [
  {
   "cell_type": "code",
   "execution_count": 64,
   "id": "05b55ef9-08a2-4019-a1ac-a2432818a4fb",
   "metadata": {},
   "outputs": [
    {
     "name": "stdout",
     "output_type": "stream",
     "text": [
      "   age workclass  fnlwgt     education  education.num marital.status  \\\n",
      "0   90         ?   77053       HS-grad              9        Widowed   \n",
      "1   82   Private  132870       HS-grad              9        Widowed   \n",
      "2   66         ?  186061  Some-college             10        Widowed   \n",
      "3   54   Private  140359       7th-8th              4       Divorced   \n",
      "4   41   Private  264663  Some-college             10      Separated   \n",
      "\n",
      "          occupation   relationship   race     sex  capital.gain  \\\n",
      "0                  ?  Not-in-family  White  Female             0   \n",
      "1    Exec-managerial  Not-in-family  White  Female             0   \n",
      "2                  ?      Unmarried  Black  Female             0   \n",
      "3  Machine-op-inspct      Unmarried  White  Female             0   \n",
      "4     Prof-specialty      Own-child  White  Female             0   \n",
      "\n",
      "   capital.loss  hours.per.week native.country income  \n",
      "0          4356              40  United-States  <=50K  \n",
      "1          4356              18  United-States  <=50K  \n",
      "2          4356              40  United-States  <=50K  \n",
      "3          3900              40  United-States  <=50K  \n",
      "4          3900              40  United-States  <=50K  \n"
     ]
    }
   ],
   "source": [
    "import pandas as pd\n",
    "import numpy as np\n",
    "import matplotlib.pyplot as plt\n",
    "from sklearn.preprocessing import StandardScaler, LabelEncoder, OneHotEncoder\n",
    "#Loading the dataset\n",
    "adult = pd.read_csv(\"C:\\\\Users\\\\USER\\\\Downloads\\\\Week One Learning Task\\\\QUESTION 2\\\\adult.csv\")\n",
    "\n",
    "#inspecting the dataset\n",
    "print(adult.head())"
   ]
  },
  {
   "cell_type": "code",
   "execution_count": 65,
   "id": "d2740b85-13d7-4b27-ac31-e00b789ee85e",
   "metadata": {},
   "outputs": [
    {
     "name": "stdout",
     "output_type": "stream",
     "text": [
      "<class 'pandas.core.frame.DataFrame'>\n",
      "RangeIndex: 32561 entries, 0 to 32560\n",
      "Data columns (total 15 columns):\n",
      " #   Column          Non-Null Count  Dtype \n",
      "---  ------          --------------  ----- \n",
      " 0   age             32561 non-null  int64 \n",
      " 1   workclass       32561 non-null  object\n",
      " 2   fnlwgt          32561 non-null  int64 \n",
      " 3   education       32561 non-null  object\n",
      " 4   education.num   32561 non-null  int64 \n",
      " 5   marital.status  32561 non-null  object\n",
      " 6   occupation      32561 non-null  object\n",
      " 7   relationship    32561 non-null  object\n",
      " 8   race            32561 non-null  object\n",
      " 9   sex             32561 non-null  object\n",
      " 10  capital.gain    32561 non-null  int64 \n",
      " 11  capital.loss    32561 non-null  int64 \n",
      " 12  hours.per.week  32561 non-null  int64 \n",
      " 13  native.country  32561 non-null  object\n",
      " 14  income          32561 non-null  object\n",
      "dtypes: int64(6), object(9)\n",
      "memory usage: 3.7+ MB\n",
      "None\n"
     ]
    }
   ],
   "source": [
    "print(adult.info())\n"
   ]
  },
  {
   "cell_type": "code",
   "execution_count": 66,
   "id": "2cf01d8a-ce12-46a1-9229-83e197f9ff9e",
   "metadata": {},
   "outputs": [
    {
     "name": "stdout",
     "output_type": "stream",
     "text": [
      "age               0\n",
      "workclass         0\n",
      "fnlwgt            0\n",
      "education         0\n",
      "education.num     0\n",
      "marital.status    0\n",
      "occupation        0\n",
      "relationship      0\n",
      "race              0\n",
      "sex               0\n",
      "capital.gain      0\n",
      "capital.loss      0\n",
      "hours.per.week    0\n",
      "native.country    0\n",
      "income            0\n",
      "dtype: int64\n"
     ]
    }
   ],
   "source": [
    "#handling missing values\n",
    "print(adult.isnull().sum())\n",
    "\n"
   ]
  },
  {
   "cell_type": "code",
   "execution_count": 53,
   "id": "77282fdb-1f8b-4195-9c64-56c21ac9c12b",
   "metadata": {},
   "outputs": [
    {
     "name": "stdout",
     "output_type": "stream",
     "text": [
      "       age workclass  fnlwgt     education  education.num      marital.status  \\\n",
      "0       90         ?   77053       HS-grad              9             Widowed   \n",
      "1       82   Private  132870       HS-grad              9             Widowed   \n",
      "2       66         ?  186061  Some-college             10             Widowed   \n",
      "3       54   Private  140359       7th-8th              4            Divorced   \n",
      "4       41   Private  264663  Some-college             10           Separated   \n",
      "...    ...       ...     ...           ...            ...                 ...   \n",
      "32556   22   Private  310152  Some-college             10       Never-married   \n",
      "32557   27   Private  257302    Assoc-acdm             12  Married-civ-spouse   \n",
      "32558   40   Private  154374       HS-grad              9  Married-civ-spouse   \n",
      "32559   58   Private  151910       HS-grad              9             Widowed   \n",
      "32560   22   Private  201490       HS-grad              9       Never-married   \n",
      "\n",
      "              occupation   relationship   race     sex  capital.gain  \\\n",
      "0                      ?  Not-in-family  White  Female             0   \n",
      "1        Exec-managerial  Not-in-family  White  Female             0   \n",
      "2                      ?      Unmarried  Black  Female             0   \n",
      "3      Machine-op-inspct      Unmarried  White  Female             0   \n",
      "4         Prof-specialty      Own-child  White  Female             0   \n",
      "...                  ...            ...    ...     ...           ...   \n",
      "32556    Protective-serv  Not-in-family  White    Male             0   \n",
      "32557       Tech-support           Wife  White  Female             0   \n",
      "32558  Machine-op-inspct        Husband  White    Male             0   \n",
      "32559       Adm-clerical      Unmarried  White  Female             0   \n",
      "32560       Adm-clerical      Own-child  White    Male             0   \n",
      "\n",
      "       capital.loss  hours.per.week native.country income  \n",
      "0              4356              40  United-States  <=50K  \n",
      "1              4356              18  United-States  <=50K  \n",
      "2              4356              40  United-States  <=50K  \n",
      "3              3900              40  United-States  <=50K  \n",
      "4              3900              40  United-States  <=50K  \n",
      "...             ...             ...            ...    ...  \n",
      "32556             0              40  United-States  <=50K  \n",
      "32557             0              38  United-States  <=50K  \n",
      "32558             0              40  United-States   >50K  \n",
      "32559             0              40  United-States  <=50K  \n",
      "32560             0              20  United-States  <=50K  \n",
      "\n",
      "[32561 rows x 15 columns]\n"
     ]
    }
   ],
   "source": [
    "#dropping missing values\n",
    "adult_dropped = adult.dropna()\n",
    "print(adult_dropped)"
   ]
  },
  {
   "cell_type": "code",
   "execution_count": 60,
   "id": "65ff83e0-7a6e-4e2b-a008-c5a2f459f5cc",
   "metadata": {},
   "outputs": [
    {
     "name": "stdout",
     "output_type": "stream",
     "text": [
      "       age workclass  fnlwgt     education  education.num      marital.status  \\\n",
      "0       90         ?   77053       HS-grad              9             Widowed   \n",
      "1       82   Private  132870       HS-grad              9             Widowed   \n",
      "2       66         ?  186061  Some-college             10             Widowed   \n",
      "3       54   Private  140359       7th-8th              4            Divorced   \n",
      "4       41   Private  264663  Some-college             10           Separated   \n",
      "...    ...       ...     ...           ...            ...                 ...   \n",
      "32556   22   Private  310152  Some-college             10       Never-married   \n",
      "32557   27   Private  257302    Assoc-acdm             12  Married-civ-spouse   \n",
      "32558   40   Private  154374       HS-grad              9  Married-civ-spouse   \n",
      "32559   58   Private  151910       HS-grad              9             Widowed   \n",
      "32560   22   Private  201490       HS-grad              9       Never-married   \n",
      "\n",
      "              occupation   relationship   race     sex  capital.gain  \\\n",
      "0                      ?  Not-in-family  White  Female             0   \n",
      "1        Exec-managerial  Not-in-family  White  Female             0   \n",
      "2                      ?      Unmarried  Black  Female             0   \n",
      "3      Machine-op-inspct      Unmarried  White  Female             0   \n",
      "4         Prof-specialty      Own-child  White  Female             0   \n",
      "...                  ...            ...    ...     ...           ...   \n",
      "32556    Protective-serv  Not-in-family  White    Male             0   \n",
      "32557       Tech-support           Wife  White  Female             0   \n",
      "32558  Machine-op-inspct        Husband  White    Male             0   \n",
      "32559       Adm-clerical      Unmarried  White  Female             0   \n",
      "32560       Adm-clerical      Own-child  White    Male             0   \n",
      "\n",
      "       capital.loss  hours.per.week native.country income  \n",
      "0              4356              40  United-States  <=50K  \n",
      "1              4356              18  United-States  <=50K  \n",
      "2              4356              40  United-States  <=50K  \n",
      "3              3900              40  United-States  <=50K  \n",
      "4              3900              40  United-States  <=50K  \n",
      "...             ...             ...            ...    ...  \n",
      "32556             0              40  United-States  <=50K  \n",
      "32557             0              38  United-States  <=50K  \n",
      "32558             0              40  United-States   >50K  \n",
      "32559             0              40  United-States  <=50K  \n",
      "32560             0              20  United-States  <=50K  \n",
      "\n",
      "[32537 rows x 15 columns]\n"
     ]
    }
   ],
   "source": [
    "#Removing Duplicates\n",
    "adult = adult.drop_duplicates()\n",
    "print(adult)"
   ]
  },
  {
   "cell_type": "code",
   "execution_count": 63,
   "id": "9f025071-cf9d-4c9c-b8f8-e1b26f34856f",
   "metadata": {},
   "outputs": [
    {
     "name": "stdout",
     "output_type": "stream",
     "text": [
      "109\n"
     ]
    }
   ],
   "source": [
    "print(adult.shape[1])"
   ]
  },
  {
   "cell_type": "code",
   "execution_count": 68,
   "id": "b7dffc91-4058-4ecf-9892-d550d308f926",
   "metadata": {},
   "outputs": [
    {
     "name": "stdout",
     "output_type": "stream",
     "text": [
      "       age  fnlwgt  education.num  capital.gain  capital.loss  hours.per.week  \\\n",
      "0       90   77053              9             0          4356              40   \n",
      "1       82  132870              9             0          4356              18   \n",
      "2       66  186061             10             0          4356              40   \n",
      "3       54  140359              4             0          3900              40   \n",
      "4       41  264663             10             0          3900              40   \n",
      "...    ...     ...            ...           ...           ...             ...   \n",
      "32556   22  310152             10             0             0              40   \n",
      "32557   27  257302             12             0             0              38   \n",
      "32558   40  154374              9             0             0              40   \n",
      "32559   58  151910              9             0             0              40   \n",
      "32560   22  201490              9             0             0              20   \n",
      "\n",
      "      income  workclass_?  workclass_Federal-gov  workclass_Local-gov  ...  \\\n",
      "0      <=50K         True                  False                False  ...   \n",
      "1      <=50K        False                  False                False  ...   \n",
      "2      <=50K         True                  False                False  ...   \n",
      "3      <=50K        False                  False                False  ...   \n",
      "4      <=50K        False                  False                False  ...   \n",
      "...      ...          ...                    ...                  ...  ...   \n",
      "32556  <=50K        False                  False                False  ...   \n",
      "32557  <=50K        False                  False                False  ...   \n",
      "32558   >50K        False                  False                False  ...   \n",
      "32559  <=50K        False                  False                False  ...   \n",
      "32560  <=50K        False                  False                False  ...   \n",
      "\n",
      "       native.country_Portugal  native.country_Puerto-Rico  \\\n",
      "0                        False                       False   \n",
      "1                        False                       False   \n",
      "2                        False                       False   \n",
      "3                        False                       False   \n",
      "4                        False                       False   \n",
      "...                        ...                         ...   \n",
      "32556                    False                       False   \n",
      "32557                    False                       False   \n",
      "32558                    False                       False   \n",
      "32559                    False                       False   \n",
      "32560                    False                       False   \n",
      "\n",
      "       native.country_Scotland  native.country_South  native.country_Taiwan  \\\n",
      "0                        False                 False                  False   \n",
      "1                        False                 False                  False   \n",
      "2                        False                 False                  False   \n",
      "3                        False                 False                  False   \n",
      "4                        False                 False                  False   \n",
      "...                        ...                   ...                    ...   \n",
      "32556                    False                 False                  False   \n",
      "32557                    False                 False                  False   \n",
      "32558                    False                 False                  False   \n",
      "32559                    False                 False                  False   \n",
      "32560                    False                 False                  False   \n",
      "\n",
      "       native.country_Thailand  native.country_Trinadad&Tobago  \\\n",
      "0                        False                           False   \n",
      "1                        False                           False   \n",
      "2                        False                           False   \n",
      "3                        False                           False   \n",
      "4                        False                           False   \n",
      "...                        ...                             ...   \n",
      "32556                    False                           False   \n",
      "32557                    False                           False   \n",
      "32558                    False                           False   \n",
      "32559                    False                           False   \n",
      "32560                    False                           False   \n",
      "\n",
      "       native.country_United-States  native.country_Vietnam  \\\n",
      "0                              True                   False   \n",
      "1                              True                   False   \n",
      "2                              True                   False   \n",
      "3                              True                   False   \n",
      "4                              True                   False   \n",
      "...                             ...                     ...   \n",
      "32556                          True                   False   \n",
      "32557                          True                   False   \n",
      "32558                          True                   False   \n",
      "32559                          True                   False   \n",
      "32560                          True                   False   \n",
      "\n",
      "       native.country_Yugoslavia  \n",
      "0                          False  \n",
      "1                          False  \n",
      "2                          False  \n",
      "3                          False  \n",
      "4                          False  \n",
      "...                          ...  \n",
      "32556                      False  \n",
      "32557                      False  \n",
      "32558                      False  \n",
      "32559                      False  \n",
      "32560                      False  \n",
      "\n",
      "[32561 rows x 109 columns]\n"
     ]
    }
   ],
   "source": [
    "#converting categorical variables to numerical using one hot encooding\n",
    "categorical_cols = ['workclass', 'education', 'marital.status', 'occupation', 'relationship', 'race', 'sex', 'native.country']\n",
    "adult = pd.get_dummies(adult, columns=categorical_cols)\n",
    "print(adult)\n"
   ]
  },
  {
   "cell_type": "code",
   "execution_count": 69,
   "id": "10d24b92-279d-43d1-a829-14a47658e8f8",
   "metadata": {},
   "outputs": [
    {
     "name": "stdout",
     "output_type": "stream",
     "text": [
      "109\n"
     ]
    }
   ],
   "source": [
    "print(adult.shape[1])"
   ]
  },
  {
   "cell_type": "code",
   "execution_count": 62,
   "id": "31e706dd-3d6a-41a0-8e53-e1d2bb4b5ea4",
   "metadata": {},
   "outputs": [
    {
     "name": "stdout",
     "output_type": "stream",
     "text": [
      "            age    fnlwgt  education.num  capital.gain  capital.loss  \\\n",
      "0      3.770003 -1.067955      -0.420679     -0.145975     10.589625   \n",
      "1      3.183397 -0.539159      -0.420679     -0.145975     10.589625   \n",
      "2      2.010185 -0.035241      -0.031815     -0.145975     10.589625   \n",
      "3      1.130276 -0.468210      -2.364998     -0.145975      9.458380   \n",
      "4      0.177041  0.709415      -0.031815     -0.145975      9.458380   \n",
      "...         ...       ...            ...           ...           ...   \n",
      "32556 -1.216148  1.140366      -0.031815     -0.145975     -0.216743   \n",
      "32557 -0.849519  0.639678       0.745913     -0.145975     -0.216743   \n",
      "32558  0.103716 -0.335436      -0.420679     -0.145975     -0.216743   \n",
      "32559  1.423579 -0.358779      -0.420679     -0.145975     -0.216743   \n",
      "32560 -1.216148  0.110930      -0.420679     -0.145975     -0.216743   \n",
      "\n",
      "       hours.per.week  \n",
      "0           -0.035664  \n",
      "1           -1.817516  \n",
      "2           -0.035664  \n",
      "3           -0.035664  \n",
      "4           -0.035664  \n",
      "...               ...  \n",
      "32556       -0.035664  \n",
      "32557       -0.197650  \n",
      "32558       -0.035664  \n",
      "32559       -0.035664  \n",
      "32560       -1.655530  \n",
      "\n",
      "[32537 rows x 6 columns]\n"
     ]
    }
   ],
   "source": [
    "scaler = StandardScaler()\n",
    "numerical_cols = [ 'age', 'fnlwgt', 'education.num', 'capital.gain', 'capital.loss', 'hours.per.week']\n",
    "adult[numerical_cols] = scaler.fit_transform(adult[numerical_cols])\n",
    "print(adult[numerical_cols])\n"
   ]
  },
  {
   "cell_type": "code",
   "execution_count": null,
   "id": "83c761c0-8460-4157-bae0-72bef3aa8c74",
   "metadata": {},
   "outputs": [],
   "source": []
  }
 ],
 "metadata": {
  "kernelspec": {
   "display_name": "Python 3 (ipykernel)",
   "language": "python",
   "name": "python3"
  },
  "language_info": {
   "codemirror_mode": {
    "name": "ipython",
    "version": 3
   },
   "file_extension": ".py",
   "mimetype": "text/x-python",
   "name": "python",
   "nbconvert_exporter": "python",
   "pygments_lexer": "ipython3",
   "version": "3.11.7"
  }
 },
 "nbformat": 4,
 "nbformat_minor": 5
}
