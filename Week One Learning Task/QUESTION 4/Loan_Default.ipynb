{
 "cells": [
  {
   "cell_type": "code",
   "execution_count": 65,
   "id": "ae09f629-32fb-45a1-a45d-d8757b37cd31",
   "metadata": {},
   "outputs": [
    {
     "name": "stdout",
     "output_type": "stream",
     "text": [
      "      ID  year loan_limit             Gender approv_in_adv loan_type  \\\n",
      "0  24890  2019         cf  Sex Not Available         nopre     type1   \n",
      "1  24891  2019         cf               Male         nopre     type2   \n",
      "2  24892  2019         cf               Male           pre     type1   \n",
      "3  24893  2019         cf               Male         nopre     type1   \n",
      "4  24894  2019         cf              Joint           pre     type1   \n",
      "\n",
      "  loan_purpose Credit_Worthiness open_credit business_or_commercial  ...  \\\n",
      "0           p1                l1        nopc                  nob/c  ...   \n",
      "1           p1                l1        nopc                    b/c  ...   \n",
      "2           p1                l1        nopc                  nob/c  ...   \n",
      "3           p4                l1        nopc                  nob/c  ...   \n",
      "4           p1                l1        nopc                  nob/c  ...   \n",
      "\n",
      "   credit_type  Credit_Score  co-applicant_credit_type    age  \\\n",
      "0          EXP           758                       CIB  25-34   \n",
      "1         EQUI           552                       EXP  55-64   \n",
      "2          EXP           834                       CIB  35-44   \n",
      "3          EXP           587                       CIB  45-54   \n",
      "4         CRIF           602                       EXP  25-34   \n",
      "\n",
      "   submission_of_application        LTV Region Security_Type  Status dtir1  \n",
      "0                    to_inst  98.728814  south        direct       1  45.0  \n",
      "1                    to_inst        NaN  North        direct       1   NaN  \n",
      "2                    to_inst  80.019685  south        direct       0  46.0  \n",
      "3                   not_inst  69.376900  North        direct       0  42.0  \n",
      "4                   not_inst  91.886544  North        direct       0  39.0  \n",
      "\n",
      "[5 rows x 34 columns]\n"
     ]
    }
   ],
   "source": [
    "import pandas as pd\n",
    "import numpy as np\n",
    "from sklearn.model_selection import train_test_split\n",
    "from sklearn.linear_model import LinearRegression\n",
    "from sklearn.metrics import mean_absolute_error, mean_squared_error, r2_score\n",
    "loan_default=pd.read_csv('C:\\\\Users\\\\USER\\\\Downloads\\\\Week One Learning Task\\\\QUESTION 4\\\\Loan_Default.csv')\n",
    "print(loan_default.head())"
   ]
  },
  {
   "cell_type": "code",
   "execution_count": 66,
   "id": "6a5b329f-c7b5-4eb2-9bd6-5c3042fc951c",
   "metadata": {},
   "outputs": [
    {
     "name": "stdout",
     "output_type": "stream",
     "text": [
      "<class 'pandas.core.frame.DataFrame'>\n",
      "RangeIndex: 148670 entries, 0 to 148669\n",
      "Data columns (total 34 columns):\n",
      " #   Column                     Non-Null Count   Dtype  \n",
      "---  ------                     --------------   -----  \n",
      " 0   ID                         148670 non-null  int64  \n",
      " 1   year                       148670 non-null  int64  \n",
      " 2   loan_limit                 145326 non-null  object \n",
      " 3   Gender                     148670 non-null  object \n",
      " 4   approv_in_adv              147762 non-null  object \n",
      " 5   loan_type                  148670 non-null  object \n",
      " 6   loan_purpose               148536 non-null  object \n",
      " 7   Credit_Worthiness          148670 non-null  object \n",
      " 8   open_credit                148670 non-null  object \n",
      " 9   business_or_commercial     148670 non-null  object \n",
      " 10  loan_amount                148670 non-null  int64  \n",
      " 11  rate_of_interest           112231 non-null  float64\n",
      " 12  Interest_rate_spread       112031 non-null  float64\n",
      " 13  Upfront_charges            109028 non-null  float64\n",
      " 14  term                       148629 non-null  float64\n",
      " 15  Neg_ammortization          148549 non-null  object \n",
      " 16  interest_only              148670 non-null  object \n",
      " 17  lump_sum_payment           148670 non-null  object \n",
      " 18  property_value             133572 non-null  float64\n",
      " 19  construction_type          148670 non-null  object \n",
      " 20  occupancy_type             148670 non-null  object \n",
      " 21  Secured_by                 148670 non-null  object \n",
      " 22  total_units                148670 non-null  object \n",
      " 23  income                     139520 non-null  float64\n",
      " 24  credit_type                148670 non-null  object \n",
      " 25  Credit_Score               148670 non-null  int64  \n",
      " 26  co-applicant_credit_type   148670 non-null  object \n",
      " 27  age                        148470 non-null  object \n",
      " 28  submission_of_application  148470 non-null  object \n",
      " 29  LTV                        133572 non-null  float64\n",
      " 30  Region                     148670 non-null  object \n",
      " 31  Security_Type              148670 non-null  object \n",
      " 32  Status                     148670 non-null  int64  \n",
      " 33  dtir1                      124549 non-null  float64\n",
      "dtypes: float64(8), int64(5), object(21)\n",
      "memory usage: 38.6+ MB\n",
      "None\n"
     ]
    }
   ],
   "source": [
    "print(loan_default.info())"
   ]
  },
  {
   "cell_type": "code",
   "execution_count": 67,
   "id": "767fd43e-5e2a-4514-a7a0-52b69064fbd3",
   "metadata": {},
   "outputs": [
    {
     "name": "stdout",
     "output_type": "stream",
     "text": [
      "ID                               0\n",
      "year                             0\n",
      "loan_limit                    3344\n",
      "Gender                           0\n",
      "approv_in_adv                  908\n",
      "loan_type                        0\n",
      "loan_purpose                   134\n",
      "Credit_Worthiness                0\n",
      "open_credit                      0\n",
      "business_or_commercial           0\n",
      "loan_amount                      0\n",
      "rate_of_interest             36439\n",
      "Interest_rate_spread         36639\n",
      "Upfront_charges              39642\n",
      "term                            41\n",
      "Neg_ammortization              121\n",
      "interest_only                    0\n",
      "lump_sum_payment                 0\n",
      "property_value               15098\n",
      "construction_type                0\n",
      "occupancy_type                   0\n",
      "Secured_by                       0\n",
      "total_units                      0\n",
      "income                        9150\n",
      "credit_type                      0\n",
      "Credit_Score                     0\n",
      "co-applicant_credit_type         0\n",
      "age                            200\n",
      "submission_of_application      200\n",
      "LTV                          15098\n",
      "Region                           0\n",
      "Security_Type                    0\n",
      "Status                           0\n",
      "dtir1                        24121\n",
      "dtype: int64\n"
     ]
    }
   ],
   "source": [
    "print(loan_default.isnull().sum())"
   ]
  },
  {
   "cell_type": "code",
   "execution_count": 68,
   "id": "df395365-3dda-49e4-bda1-d77b1d9b6b22",
   "metadata": {},
   "outputs": [],
   "source": [
    "loan_default = loan_default.dropna()"
   ]
  },
  {
   "cell_type": "code",
   "execution_count": 69,
   "id": "bbb341c7-28e0-424f-b422-18704bba85c9",
   "metadata": {},
   "outputs": [
    {
     "name": "stdout",
     "output_type": "stream",
     "text": [
      "ID                           0\n",
      "year                         0\n",
      "loan_limit                   0\n",
      "Gender                       0\n",
      "approv_in_adv                0\n",
      "loan_type                    0\n",
      "loan_purpose                 0\n",
      "Credit_Worthiness            0\n",
      "open_credit                  0\n",
      "business_or_commercial       0\n",
      "loan_amount                  0\n",
      "rate_of_interest             0\n",
      "Interest_rate_spread         0\n",
      "Upfront_charges              0\n",
      "term                         0\n",
      "Neg_ammortization            0\n",
      "interest_only                0\n",
      "lump_sum_payment             0\n",
      "property_value               0\n",
      "construction_type            0\n",
      "occupancy_type               0\n",
      "Secured_by                   0\n",
      "total_units                  0\n",
      "income                       0\n",
      "credit_type                  0\n",
      "Credit_Score                 0\n",
      "co-applicant_credit_type     0\n",
      "age                          0\n",
      "submission_of_application    0\n",
      "LTV                          0\n",
      "Region                       0\n",
      "Security_Type                0\n",
      "Status                       0\n",
      "dtir1                        0\n",
      "dtype: int64\n"
     ]
    }
   ],
   "source": [
    "print(loan_default.isnull().sum())"
   ]
  },
  {
   "cell_type": "code",
   "execution_count": 70,
   "id": "2272ee6c-f68d-4fb9-9512-81c57dab405f",
   "metadata": {},
   "outputs": [
    {
     "name": "stdout",
     "output_type": "stream",
     "text": [
      "                  ID     year   loan_amount  rate_of_interest  \\\n",
      "count   98187.000000  98187.0  9.818700e+04      98187.000000   \n",
      "mean    99115.912524   2019.0  3.336575e+05          4.078418   \n",
      "std     42951.314090      0.0  1.750419e+05          0.534448   \n",
      "min     24892.000000   2019.0  2.650000e+04          2.125000   \n",
      "25%     61770.000000   2019.0  2.065000e+05          3.750000   \n",
      "50%     99118.000000   2019.0  3.065000e+05          3.990000   \n",
      "75%    136261.500000   2019.0  4.365000e+05          4.500000   \n",
      "max    173559.000000   2019.0  3.006500e+06          8.000000   \n",
      "\n",
      "       Interest_rate_spread  Upfront_charges          term  property_value  \\\n",
      "count          98187.000000     98187.000000  98187.000000    9.818700e+04   \n",
      "mean               0.466075      3389.206553    333.658448    5.088515e+05   \n",
      "std                0.484145      3279.884804     60.276585    3.430455e+05   \n",
      "min               -1.039000         0.000000     96.000000    2.800000e+04   \n",
      "25%                0.103000       822.000000    360.000000    2.880000e+05   \n",
      "50%                0.399000      2800.910000    360.000000    4.380000e+05   \n",
      "75%                0.774800      4982.500000    360.000000    6.380000e+05   \n",
      "max                3.357000     60000.000000    360.000000    6.908000e+06   \n",
      "\n",
      "              income  Credit_Score           LTV   Status         dtir1  \n",
      "count   98187.000000  98187.000000  98187.000000  98187.0  98187.000000  \n",
      "mean     7196.317028    699.505383     71.005978      0.0     37.375050  \n",
      "std      6201.713331    115.671035     18.119402      0.0     10.027001  \n",
      "min       120.000000    500.000000      3.083554      0.0      5.000000  \n",
      "25%      4020.000000    599.000000     59.645062      0.0     31.000000  \n",
      "50%      6000.000000    699.000000     73.840206      0.0     38.000000  \n",
      "75%      8760.000000    800.000000     83.805031      0.0     44.000000  \n",
      "max    377220.000000    900.000000    136.538462      0.0     61.000000  \n"
     ]
    }
   ],
   "source": [
    "print(loan_default.describe())"
   ]
  },
  {
   "cell_type": "code",
   "execution_count": 71,
   "id": "e7b90301-8a57-419a-8e70-be2113a56a8b",
   "metadata": {},
   "outputs": [
    {
     "name": "stdout",
     "output_type": "stream",
     "text": [
      "      ID  year  loan_amount  rate_of_interest  Interest_rate_spread  \\\n",
      "2  24892  2019       406500             4.560                0.2000   \n",
      "4  24894  2019       696500             4.000                0.3042   \n",
      "5  24895  2019       706500             3.990                0.1523   \n",
      "6  24896  2019       346500             4.500                0.9998   \n",
      "8  24898  2019       376500             4.875                0.7395   \n",
      "\n",
      "   Upfront_charges   term  property_value   income  Credit_Score  ...  \\\n",
      "2            595.0  360.0        508000.0   9480.0           834  ...   \n",
      "4              0.0  360.0        758000.0  10440.0           602  ...   \n",
      "5            370.0  360.0       1008000.0  10080.0           864  ...   \n",
      "6           5120.0  360.0        438000.0   5040.0           860  ...   \n",
      "8           1150.0  360.0        478000.0   5580.0           580  ...   \n",
      "\n",
      "   age_35-44  age_45-54  age_55-64  age_65-74  age_<25  age_>74  \\\n",
      "2       True      False      False      False    False    False   \n",
      "4      False      False      False      False    False    False   \n",
      "5       True      False      False      False    False    False   \n",
      "6      False      False       True      False    False    False   \n",
      "8      False      False       True      False    False    False   \n",
      "\n",
      "   submission_of_application_to_inst  Region_North-East  Region_central  \\\n",
      "2                               True              False           False   \n",
      "4                              False              False           False   \n",
      "5                              False              False           False   \n",
      "6                               True              False           False   \n",
      "8                               True              False            True   \n",
      "\n",
      "   Region_south  \n",
      "2          True  \n",
      "4         False  \n",
      "5         False  \n",
      "6         False  \n",
      "8         False  \n",
      "\n",
      "[5 rows x 47 columns]\n"
     ]
    }
   ],
   "source": [
    "# Converting categorical variables to numeric using one-hot encoding\n",
    "loan_default=pd.get_dummies(loan_default, drop_first=True)\n",
    "print(loan_default.head())"
   ]
  },
  {
   "cell_type": "code",
   "execution_count": 72,
   "id": "82b6f6bf-f42a-4bb6-bf33-d87b8b8141b2",
   "metadata": {},
   "outputs": [
    {
     "name": "stdout",
     "output_type": "stream",
     "text": [
      "Index(['ID', 'year', 'loan_amount', 'rate_of_interest', 'Interest_rate_spread',\n",
      "       'Upfront_charges', 'term', 'property_value', 'income', 'Credit_Score',\n",
      "       'LTV', 'Status', 'dtir1', 'loan_limit_ncf', 'Gender_Joint',\n",
      "       'Gender_Male', 'Gender_Sex Not Available', 'approv_in_adv_pre',\n",
      "       'loan_type_type2', 'loan_type_type3', 'loan_purpose_p2',\n",
      "       'loan_purpose_p3', 'loan_purpose_p4', 'Credit_Worthiness_l2',\n",
      "       'business_or_commercial_nob/c', 'Neg_ammortization_not_neg',\n",
      "       'interest_only_not_int', 'lump_sum_payment_not_lpsm',\n",
      "       'occupancy_type_pr', 'occupancy_type_sr', 'total_units_2U',\n",
      "       'total_units_3U', 'total_units_4U', 'credit_type_CRIF',\n",
      "       'credit_type_EQUI', 'credit_type_EXP', 'co-applicant_credit_type_EXP',\n",
      "       'age_35-44', 'age_45-54', 'age_55-64', 'age_65-74', 'age_<25',\n",
      "       'age_>74', 'submission_of_application_to_inst', 'Region_North-East',\n",
      "       'Region_central', 'Region_south'],\n",
      "      dtype='object')\n"
     ]
    }
   ],
   "source": [
    "print(loan_default.columns)"
   ]
  },
  {
   "cell_type": "code",
   "execution_count": 73,
   "id": "e4ed024e-ecf2-4770-95bd-3e39829d6574",
   "metadata": {},
   "outputs": [],
   "source": [
    "# Defining the features (X) and the target variable (y)\n",
    "X = loan_default.drop('loan_amount',axis=1)\n",
    "y = loan_default[\"loan_amount\"]\n"
   ]
  },
  {
   "cell_type": "code",
   "execution_count": 74,
   "id": "ba2043ef-d9be-4408-a867-e136e01eaec4",
   "metadata": {},
   "outputs": [],
   "source": [
    "#spliting the data into training and testing set\n",
    "X_train,X_test,y_train,y_test=train_test_split(X,y, test_size=0.2,random_state=42)\n"
   ]
  },
  {
   "cell_type": "code",
   "execution_count": 75,
   "id": "89b13baa-ae4c-40d7-bbc8-8a5c218e58cf",
   "metadata": {},
   "outputs": [
    {
     "data": {
      "text/html": [
       "<style>#sk-container-id-4 {color: black;background-color: white;}#sk-container-id-4 pre{padding: 0;}#sk-container-id-4 div.sk-toggleable {background-color: white;}#sk-container-id-4 label.sk-toggleable__label {cursor: pointer;display: block;width: 100%;margin-bottom: 0;padding: 0.3em;box-sizing: border-box;text-align: center;}#sk-container-id-4 label.sk-toggleable__label-arrow:before {content: \"▸\";float: left;margin-right: 0.25em;color: #696969;}#sk-container-id-4 label.sk-toggleable__label-arrow:hover:before {color: black;}#sk-container-id-4 div.sk-estimator:hover label.sk-toggleable__label-arrow:before {color: black;}#sk-container-id-4 div.sk-toggleable__content {max-height: 0;max-width: 0;overflow: hidden;text-align: left;background-color: #f0f8ff;}#sk-container-id-4 div.sk-toggleable__content pre {margin: 0.2em;color: black;border-radius: 0.25em;background-color: #f0f8ff;}#sk-container-id-4 input.sk-toggleable__control:checked~div.sk-toggleable__content {max-height: 200px;max-width: 100%;overflow: auto;}#sk-container-id-4 input.sk-toggleable__control:checked~label.sk-toggleable__label-arrow:before {content: \"▾\";}#sk-container-id-4 div.sk-estimator input.sk-toggleable__control:checked~label.sk-toggleable__label {background-color: #d4ebff;}#sk-container-id-4 div.sk-label input.sk-toggleable__control:checked~label.sk-toggleable__label {background-color: #d4ebff;}#sk-container-id-4 input.sk-hidden--visually {border: 0;clip: rect(1px 1px 1px 1px);clip: rect(1px, 1px, 1px, 1px);height: 1px;margin: -1px;overflow: hidden;padding: 0;position: absolute;width: 1px;}#sk-container-id-4 div.sk-estimator {font-family: monospace;background-color: #f0f8ff;border: 1px dotted black;border-radius: 0.25em;box-sizing: border-box;margin-bottom: 0.5em;}#sk-container-id-4 div.sk-estimator:hover {background-color: #d4ebff;}#sk-container-id-4 div.sk-parallel-item::after {content: \"\";width: 100%;border-bottom: 1px solid gray;flex-grow: 1;}#sk-container-id-4 div.sk-label:hover label.sk-toggleable__label {background-color: #d4ebff;}#sk-container-id-4 div.sk-serial::before {content: \"\";position: absolute;border-left: 1px solid gray;box-sizing: border-box;top: 0;bottom: 0;left: 50%;z-index: 0;}#sk-container-id-4 div.sk-serial {display: flex;flex-direction: column;align-items: center;background-color: white;padding-right: 0.2em;padding-left: 0.2em;position: relative;}#sk-container-id-4 div.sk-item {position: relative;z-index: 1;}#sk-container-id-4 div.sk-parallel {display: flex;align-items: stretch;justify-content: center;background-color: white;position: relative;}#sk-container-id-4 div.sk-item::before, #sk-container-id-4 div.sk-parallel-item::before {content: \"\";position: absolute;border-left: 1px solid gray;box-sizing: border-box;top: 0;bottom: 0;left: 50%;z-index: -1;}#sk-container-id-4 div.sk-parallel-item {display: flex;flex-direction: column;z-index: 1;position: relative;background-color: white;}#sk-container-id-4 div.sk-parallel-item:first-child::after {align-self: flex-end;width: 50%;}#sk-container-id-4 div.sk-parallel-item:last-child::after {align-self: flex-start;width: 50%;}#sk-container-id-4 div.sk-parallel-item:only-child::after {width: 0;}#sk-container-id-4 div.sk-dashed-wrapped {border: 1px dashed gray;margin: 0 0.4em 0.5em 0.4em;box-sizing: border-box;padding-bottom: 0.4em;background-color: white;}#sk-container-id-4 div.sk-label label {font-family: monospace;font-weight: bold;display: inline-block;line-height: 1.2em;}#sk-container-id-4 div.sk-label-container {text-align: center;}#sk-container-id-4 div.sk-container {/* jupyter's `normalize.less` sets `[hidden] { display: none; }` but bootstrap.min.css set `[hidden] { display: none !important; }` so we also need the `!important` here to be able to override the default hidden behavior on the sphinx rendered scikit-learn.org. See: https://github.com/scikit-learn/scikit-learn/issues/21755 */display: inline-block !important;position: relative;}#sk-container-id-4 div.sk-text-repr-fallback {display: none;}</style><div id=\"sk-container-id-4\" class=\"sk-top-container\"><div class=\"sk-text-repr-fallback\"><pre>LinearRegression()</pre><b>In a Jupyter environment, please rerun this cell to show the HTML representation or trust the notebook. <br />On GitHub, the HTML representation is unable to render, please try loading this page with nbviewer.org.</b></div><div class=\"sk-container\" hidden><div class=\"sk-item\"><div class=\"sk-estimator sk-toggleable\"><input class=\"sk-toggleable__control sk-hidden--visually\" id=\"sk-estimator-id-4\" type=\"checkbox\" checked><label for=\"sk-estimator-id-4\" class=\"sk-toggleable__label sk-toggleable__label-arrow\">LinearRegression</label><div class=\"sk-toggleable__content\"><pre>LinearRegression()</pre></div></div></div></div></div>"
      ],
      "text/plain": [
       "LinearRegression()"
      ]
     },
     "execution_count": 75,
     "metadata": {},
     "output_type": "execute_result"
    }
   ],
   "source": [
    "#initializing and training the model\n",
    "model=LinearRegression()\n",
    "model.fit(X_train,y_train)"
   ]
  },
  {
   "cell_type": "code",
   "execution_count": 76,
   "id": "fefd92b6-0ba1-4d45-bc44-a3ef05d8ffc7",
   "metadata": {},
   "outputs": [
    {
     "name": "stdout",
     "output_type": "stream",
     "text": [
      "MAE: 48374.990273958654\n",
      "MSE: 5344480987.66941\n",
      "RMSE: 73105.95726525581\n",
      "R²: 0.8222699111784731\n"
     ]
    }
   ],
   "source": [
    "#predicting the model \n",
    "y_pred=model.predict(X_test)\n",
    "\n",
    "# Evaluating the model\n",
    "mae = mean_absolute_error(y_test, y_pred)\n",
    "mse = mean_squared_error(y_test, y_pred)\n",
    "rmse = mean_squared_error(y_test, y_pred, squared=False)\n",
    "r2 = r2_score(y_test, y_pred)\n",
    "\n",
    "print(f\"MAE: {mae}\")\n",
    "print(f\"MSE: {mse}\")\n",
    "print(f\"RMSE: {rmse}\")\n",
    "print(f\"R²: {r2}\")"
   ]
  },
  {
   "cell_type": "code",
   "execution_count": null,
   "id": "e2162a69-e6c1-483e-a059-4ed024b8029b",
   "metadata": {},
   "outputs": [],
   "source": []
  },
  {
   "cell_type": "code",
   "execution_count": null,
   "id": "ed7d7a0e-1222-4e2f-9c2b-f9d15d5d142a",
   "metadata": {},
   "outputs": [],
   "source": []
  }
 ],
 "metadata": {
  "kernelspec": {
   "display_name": "Python 3 (ipykernel)",
   "language": "python",
   "name": "python3"
  },
  "language_info": {
   "codemirror_mode": {
    "name": "ipython",
    "version": 3
   },
   "file_extension": ".py",
   "mimetype": "text/x-python",
   "name": "python",
   "nbconvert_exporter": "python",
   "pygments_lexer": "ipython3",
   "version": "3.11.7"
  }
 },
 "nbformat": 4,
 "nbformat_minor": 5
}
